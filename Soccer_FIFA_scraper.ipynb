{
  "nbformat": 4,
  "nbformat_minor": 0,
  "metadata": {
    "colab": {
      "name": "Soccer_FIFA_scraper.ipynb",
      "provenance": [],
      "authorship_tag": "ABX9TyOLKg56CCB4ENZAeSNUmJ/6",
      "include_colab_link": true
    },
    "kernelspec": {
      "name": "python3",
      "display_name": "Python 3"
    },
    "language_info": {
      "name": "python"
    }
  },
  "cells": [
    {
      "cell_type": "markdown",
      "metadata": {
        "id": "view-in-github",
        "colab_type": "text"
      },
      "source": [
        "<a href=\"https://colab.research.google.com/github/Maurizio-L/FBref_football_players_data/blob/main/Soccer_FIFA_scraper.ipynb\" target=\"_parent\"><img src=\"https://colab.research.google.com/assets/colab-badge.svg\" alt=\"Open In Colab\"/></a>"
      ]
    },
    {
      "cell_type": "code",
      "execution_count": null,
      "metadata": {
        "id": "MNeTH-_ghM44"
      },
      "outputs": [],
      "source": [
        "from bs4 import BeautifulSoup\n",
        "import requests\n",
        "import pandas as pd\n",
        "from datetime import datetime\n",
        "import re\n",
        "import numpy as np"
      ]
    },
    {
      "cell_type": "code",
      "source": [
        "dates = pd.date_range(start=\"2006-06-01\",end=\"2022-12-31\").tolist()\n",
        "dates_2 = []\n",
        "\n",
        "for d in range(0,len(dates)):\n",
        "  a = dates[d].strftime('%Y-%m-%d')\n",
        "  dates_2.append(a)\n",
        "print(len(dates_2))\n",
        "\n",
        "# https://www.fifa.com/fifaplus/en/match-centre/competition/17?date=2018-07-03&tab=competitionMatches&prev=competition"
      ],
      "metadata": {
        "colab": {
          "base_uri": "https://localhost:8080/"
        },
        "id": "dFt9J2vwiG1H",
        "outputId": "8dc6693f-2485-464d-8482-d01ca154d9da"
      },
      "execution_count": null,
      "outputs": [
        {
          "output_type": "stream",
          "name": "stdout",
          "text": [
            "6058\n"
          ]
        }
      ]
    },
    {
      "cell_type": "code",
      "source": [
        "webpage = requests.get(\"https://en.wikipedia.org/wiki/2022_FIFA_World_Cup\")\n",
        "soup = BeautifulSoup(webpage.text, \"html.parser\")\n",
        "\n",
        "\n",
        "tags = soup.find_all(\"div\", {\"class\": \"footballbox\"})\n",
        "ids = soup.find_all(class_=\"mw-headline\")\n",
        "matches = []\n",
        "for id in ids:\n",
        "   match_dictionary = {}\n",
        "   turn = id.find(id=lambda x: x and x.startswith('Group'))\n",
        "   match_dictionary[\"Group\"] = turn.get_text()\n",
        "   matches.append(match_dictionary)\n",
        "   print(matches[id])"
      ],
      "metadata": {
        "id": "9ssdFnUCox25"
      },
      "execution_count": null,
      "outputs": []
    },
    {
      "cell_type": "code",
      "source": [
        "ids = soup.find_all(class_=\"mw-headline\") \n",
        "turns = [\"Group_A\",\"Group_B\",\"Group_C\",\"Group_D\",\"Group_E\",\"Group_F\",\"Group_G\",\n",
        "         \"Group_H\",\"Group_I\",\"Round_of_16\",\"Quarter-finals\",\"Semi-finals\",\"Third_place_play-off\", \"Final\"]\n",
        "turns_2 = []\n",
        "\n",
        "for i in ids:\n",
        "  for t in range(0,len(turns)):\n",
        "    try:\n",
        "      turn_for_div = soup.find(id=turns[t])\n",
        "    except:\n",
        "      print(\"no text found\")\n",
        "    turns_2.append(turn_for_div)\n",
        "print(turns_2)\n",
        "\n"
      ],
      "metadata": {
        "colab": {
          "base_uri": "https://localhost:8080/"
        },
        "id": "Ch5TUiSD-fto",
        "outputId": "e54882a2-26f2-4f3f-c5f6-375fa82f2ee4"
      },
      "execution_count": null,
      "outputs": [
        {
          "output_type": "stream",
          "name": "stdout",
          "text": [
            "[<span class=\"mw-headline\" id=\"Group_A\">Group A</span>, <span class=\"mw-headline\" id=\"Group_B\">Group B</span>, <span class=\"mw-headline\" id=\"Group_C\">Group C</span>, <span class=\"mw-headline\" id=\"Group_D\">Group D</span>, <span class=\"mw-headline\" id=\"Group_E\">Group E</span>, <span class=\"mw-headline\" id=\"Group_F\">Group F</span>, <span class=\"mw-headline\" id=\"Group_G\">Group G</span>, <span class=\"mw-headline\" id=\"Group_H\">Group H</span>, None, <span class=\"mw-headline\" id=\"Round_of_16\">Round of 16</span>, <span class=\"mw-headline\" id=\"Quarter-finals\">Quarter-finals</span>, <span class=\"mw-headline\" id=\"Semi-finals\">Semi-finals</span>, <span class=\"mw-headline\" id=\"Third_place_play-off\">Third place play-off</span>, <span class=\"mw-headline\" id=\"Final\">Final</span>, <span class=\"mw-headline\" id=\"Group_A\">Group A</span>, <span class=\"mw-headline\" id=\"Group_B\">Group B</span>, <span class=\"mw-headline\" id=\"Group_C\">Group C</span>, <span class=\"mw-headline\" id=\"Group_D\">Group D</span>, <span class=\"mw-headline\" id=\"Group_E\">Group E</span>, <span class=\"mw-headline\" id=\"Group_F\">Group F</span>, <span class=\"mw-headline\" id=\"Group_G\">Group G</span>, <span class=\"mw-headline\" id=\"Group_H\">Group H</span>, None, <span class=\"mw-headline\" id=\"Round_of_16\">Round of 16</span>, <span class=\"mw-headline\" id=\"Quarter-finals\">Quarter-finals</span>, <span class=\"mw-headline\" id=\"Semi-finals\">Semi-finals</span>, <span class=\"mw-headline\" id=\"Third_place_play-off\">Third place play-off</span>, <span class=\"mw-headline\" id=\"Final\">Final</span>, <span class=\"mw-headline\" id=\"Group_A\">Group A</span>, <span class=\"mw-headline\" id=\"Group_B\">Group B</span>, <span class=\"mw-headline\" id=\"Group_C\">Group C</span>, <span class=\"mw-headline\" id=\"Group_D\">Group D</span>, <span class=\"mw-headline\" id=\"Group_E\">Group E</span>, <span class=\"mw-headline\" id=\"Group_F\">Group F</span>, <span class=\"mw-headline\" id=\"Group_G\">Group G</span>, <span class=\"mw-headline\" id=\"Group_H\">Group H</span>, None, <span class=\"mw-headline\" id=\"Round_of_16\">Round of 16</span>, <span class=\"mw-headline\" id=\"Quarter-finals\">Quarter-finals</span>, <span class=\"mw-headline\" id=\"Semi-finals\">Semi-finals</span>, <span class=\"mw-headline\" id=\"Third_place_play-off\">Third place play-off</span>, <span class=\"mw-headline\" id=\"Final\">Final</span>, <span class=\"mw-headline\" id=\"Group_A\">Group A</span>, <span class=\"mw-headline\" id=\"Group_B\">Group B</span>, <span class=\"mw-headline\" id=\"Group_C\">Group C</span>, <span class=\"mw-headline\" id=\"Group_D\">Group D</span>, <span class=\"mw-headline\" id=\"Group_E\">Group E</span>, <span class=\"mw-headline\" id=\"Group_F\">Group F</span>, <span class=\"mw-headline\" id=\"Group_G\">Group G</span>, <span class=\"mw-headline\" id=\"Group_H\">Group H</span>, None, <span class=\"mw-headline\" id=\"Round_of_16\">Round of 16</span>, <span class=\"mw-headline\" id=\"Quarter-finals\">Quarter-finals</span>, <span class=\"mw-headline\" id=\"Semi-finals\">Semi-finals</span>, <span class=\"mw-headline\" id=\"Third_place_play-off\">Third place play-off</span>, <span class=\"mw-headline\" id=\"Final\">Final</span>, <span class=\"mw-headline\" id=\"Group_A\">Group A</span>, <span class=\"mw-headline\" id=\"Group_B\">Group B</span>, <span class=\"mw-headline\" id=\"Group_C\">Group C</span>, <span class=\"mw-headline\" id=\"Group_D\">Group D</span>, <span class=\"mw-headline\" id=\"Group_E\">Group E</span>, <span class=\"mw-headline\" id=\"Group_F\">Group F</span>, <span class=\"mw-headline\" id=\"Group_G\">Group G</span>, <span class=\"mw-headline\" id=\"Group_H\">Group H</span>, None, <span class=\"mw-headline\" id=\"Round_of_16\">Round of 16</span>, <span class=\"mw-headline\" id=\"Quarter-finals\">Quarter-finals</span>, <span class=\"mw-headline\" id=\"Semi-finals\">Semi-finals</span>, <span class=\"mw-headline\" id=\"Third_place_play-off\">Third place play-off</span>, <span class=\"mw-headline\" id=\"Final\">Final</span>, <span class=\"mw-headline\" id=\"Group_A\">Group A</span>, <span class=\"mw-headline\" id=\"Group_B\">Group B</span>, <span class=\"mw-headline\" id=\"Group_C\">Group C</span>, <span class=\"mw-headline\" id=\"Group_D\">Group D</span>, <span class=\"mw-headline\" id=\"Group_E\">Group E</span>, <span class=\"mw-headline\" id=\"Group_F\">Group F</span>, <span class=\"mw-headline\" id=\"Group_G\">Group G</span>, <span class=\"mw-headline\" id=\"Group_H\">Group H</span>, None, <span class=\"mw-headline\" id=\"Round_of_16\">Round of 16</span>, <span class=\"mw-headline\" id=\"Quarter-finals\">Quarter-finals</span>, <span class=\"mw-headline\" id=\"Semi-finals\">Semi-finals</span>, <span class=\"mw-headline\" id=\"Third_place_play-off\">Third place play-off</span>, <span class=\"mw-headline\" id=\"Final\">Final</span>, <span class=\"mw-headline\" id=\"Group_A\">Group A</span>, <span class=\"mw-headline\" id=\"Group_B\">Group B</span>, <span class=\"mw-headline\" id=\"Group_C\">Group C</span>, <span class=\"mw-headline\" id=\"Group_D\">Group D</span>, <span class=\"mw-headline\" id=\"Group_E\">Group E</span>, <span class=\"mw-headline\" id=\"Group_F\">Group F</span>, <span class=\"mw-headline\" id=\"Group_G\">Group G</span>, <span class=\"mw-headline\" id=\"Group_H\">Group H</span>, None, <span class=\"mw-headline\" id=\"Round_of_16\">Round of 16</span>, <span class=\"mw-headline\" id=\"Quarter-finals\">Quarter-finals</span>, <span class=\"mw-headline\" id=\"Semi-finals\">Semi-finals</span>, <span class=\"mw-headline\" id=\"Third_place_play-off\">Third place play-off</span>, <span class=\"mw-headline\" id=\"Final\">Final</span>, <span class=\"mw-headline\" id=\"Group_A\">Group A</span>, <span class=\"mw-headline\" id=\"Group_B\">Group B</span>, <span class=\"mw-headline\" id=\"Group_C\">Group C</span>, <span class=\"mw-headline\" id=\"Group_D\">Group D</span>, <span class=\"mw-headline\" id=\"Group_E\">Group E</span>, <span class=\"mw-headline\" id=\"Group_F\">Group F</span>, <span class=\"mw-headline\" id=\"Group_G\">Group G</span>, <span class=\"mw-headline\" id=\"Group_H\">Group H</span>, None, <span class=\"mw-headline\" id=\"Round_of_16\">Round of 16</span>, <span class=\"mw-headline\" id=\"Quarter-finals\">Quarter-finals</span>, <span class=\"mw-headline\" id=\"Semi-finals\">Semi-finals</span>, <span class=\"mw-headline\" id=\"Third_place_play-off\">Third place play-off</span>, <span class=\"mw-headline\" id=\"Final\">Final</span>, <span class=\"mw-headline\" id=\"Group_A\">Group A</span>, <span class=\"mw-headline\" id=\"Group_B\">Group B</span>, <span class=\"mw-headline\" id=\"Group_C\">Group C</span>, <span class=\"mw-headline\" id=\"Group_D\">Group D</span>, <span class=\"mw-headline\" id=\"Group_E\">Group E</span>, <span class=\"mw-headline\" id=\"Group_F\">Group F</span>, <span class=\"mw-headline\" id=\"Group_G\">Group G</span>, <span class=\"mw-headline\" id=\"Group_H\">Group H</span>, None, <span class=\"mw-headline\" id=\"Round_of_16\">Round of 16</span>, <span class=\"mw-headline\" id=\"Quarter-finals\">Quarter-finals</span>, <span class=\"mw-headline\" id=\"Semi-finals\">Semi-finals</span>, <span class=\"mw-headline\" id=\"Third_place_play-off\">Third place play-off</span>, <span class=\"mw-headline\" id=\"Final\">Final</span>, <span class=\"mw-headline\" id=\"Group_A\">Group A</span>, <span class=\"mw-headline\" id=\"Group_B\">Group B</span>, <span class=\"mw-headline\" id=\"Group_C\">Group C</span>, <span class=\"mw-headline\" id=\"Group_D\">Group D</span>, <span class=\"mw-headline\" id=\"Group_E\">Group E</span>, <span class=\"mw-headline\" id=\"Group_F\">Group F</span>, <span class=\"mw-headline\" id=\"Group_G\">Group G</span>, <span class=\"mw-headline\" id=\"Group_H\">Group H</span>, None, <span class=\"mw-headline\" id=\"Round_of_16\">Round of 16</span>, <span class=\"mw-headline\" id=\"Quarter-finals\">Quarter-finals</span>, <span class=\"mw-headline\" id=\"Semi-finals\">Semi-finals</span>, <span class=\"mw-headline\" id=\"Third_place_play-off\">Third place play-off</span>, <span class=\"mw-headline\" id=\"Final\">Final</span>, <span class=\"mw-headline\" id=\"Group_A\">Group A</span>, <span class=\"mw-headline\" id=\"Group_B\">Group B</span>, <span class=\"mw-headline\" id=\"Group_C\">Group C</span>, <span class=\"mw-headline\" id=\"Group_D\">Group D</span>, <span class=\"mw-headline\" id=\"Group_E\">Group E</span>, <span class=\"mw-headline\" id=\"Group_F\">Group F</span>, <span class=\"mw-headline\" id=\"Group_G\">Group G</span>, <span class=\"mw-headline\" id=\"Group_H\">Group H</span>, None, <span class=\"mw-headline\" id=\"Round_of_16\">Round of 16</span>, <span class=\"mw-headline\" id=\"Quarter-finals\">Quarter-finals</span>, <span class=\"mw-headline\" id=\"Semi-finals\">Semi-finals</span>, <span class=\"mw-headline\" id=\"Third_place_play-off\">Third place play-off</span>, <span class=\"mw-headline\" id=\"Final\">Final</span>, <span class=\"mw-headline\" id=\"Group_A\">Group A</span>, <span class=\"mw-headline\" id=\"Group_B\">Group B</span>, <span class=\"mw-headline\" id=\"Group_C\">Group C</span>, <span class=\"mw-headline\" id=\"Group_D\">Group D</span>, <span class=\"mw-headline\" id=\"Group_E\">Group E</span>, <span class=\"mw-headline\" id=\"Group_F\">Group F</span>, <span class=\"mw-headline\" id=\"Group_G\">Group G</span>, <span class=\"mw-headline\" id=\"Group_H\">Group H</span>, None, <span class=\"mw-headline\" id=\"Round_of_16\">Round of 16</span>, <span class=\"mw-headline\" id=\"Quarter-finals\">Quarter-finals</span>, <span class=\"mw-headline\" id=\"Semi-finals\">Semi-finals</span>, <span class=\"mw-headline\" id=\"Third_place_play-off\">Third place play-off</span>, <span class=\"mw-headline\" id=\"Final\">Final</span>, <span class=\"mw-headline\" id=\"Group_A\">Group A</span>, <span class=\"mw-headline\" id=\"Group_B\">Group B</span>, <span class=\"mw-headline\" id=\"Group_C\">Group C</span>, <span class=\"mw-headline\" id=\"Group_D\">Group D</span>, <span class=\"mw-headline\" id=\"Group_E\">Group E</span>, <span class=\"mw-headline\" id=\"Group_F\">Group F</span>, <span class=\"mw-headline\" id=\"Group_G\">Group G</span>, <span class=\"mw-headline\" id=\"Group_H\">Group H</span>, None, <span class=\"mw-headline\" id=\"Round_of_16\">Round of 16</span>, <span class=\"mw-headline\" id=\"Quarter-finals\">Quarter-finals</span>, <span class=\"mw-headline\" id=\"Semi-finals\">Semi-finals</span>, <span class=\"mw-headline\" id=\"Third_place_play-off\">Third place play-off</span>, <span class=\"mw-headline\" id=\"Final\">Final</span>, <span class=\"mw-headline\" id=\"Group_A\">Group A</span>, <span class=\"mw-headline\" id=\"Group_B\">Group B</span>, <span class=\"mw-headline\" id=\"Group_C\">Group C</span>, <span class=\"mw-headline\" id=\"Group_D\">Group D</span>, <span class=\"mw-headline\" id=\"Group_E\">Group E</span>, <span class=\"mw-headline\" id=\"Group_F\">Group F</span>, <span class=\"mw-headline\" id=\"Group_G\">Group G</span>, <span class=\"mw-headline\" id=\"Group_H\">Group H</span>, None, <span class=\"mw-headline\" id=\"Round_of_16\">Round of 16</span>, <span class=\"mw-headline\" id=\"Quarter-finals\">Quarter-finals</span>, <span class=\"mw-headline\" id=\"Semi-finals\">Semi-finals</span>, <span class=\"mw-headline\" id=\"Third_place_play-off\">Third place play-off</span>, <span class=\"mw-headline\" id=\"Final\">Final</span>, <span class=\"mw-headline\" id=\"Group_A\">Group A</span>, <span class=\"mw-headline\" id=\"Group_B\">Group B</span>, <span class=\"mw-headline\" id=\"Group_C\">Group C</span>, <span class=\"mw-headline\" id=\"Group_D\">Group D</span>, <span class=\"mw-headline\" id=\"Group_E\">Group E</span>, <span class=\"mw-headline\" id=\"Group_F\">Group F</span>, <span class=\"mw-headline\" id=\"Group_G\">Group G</span>, <span class=\"mw-headline\" id=\"Group_H\">Group H</span>, None, <span class=\"mw-headline\" id=\"Round_of_16\">Round of 16</span>, <span class=\"mw-headline\" id=\"Quarter-finals\">Quarter-finals</span>, <span class=\"mw-headline\" id=\"Semi-finals\">Semi-finals</span>, <span class=\"mw-headline\" id=\"Third_place_play-off\">Third place play-off</span>, <span class=\"mw-headline\" id=\"Final\">Final</span>, <span class=\"mw-headline\" id=\"Group_A\">Group A</span>, <span class=\"mw-headline\" id=\"Group_B\">Group B</span>, <span class=\"mw-headline\" id=\"Group_C\">Group C</span>, <span class=\"mw-headline\" id=\"Group_D\">Group D</span>, <span class=\"mw-headline\" id=\"Group_E\">Group E</span>, <span class=\"mw-headline\" id=\"Group_F\">Group F</span>, <span class=\"mw-headline\" id=\"Group_G\">Group G</span>, <span class=\"mw-headline\" id=\"Group_H\">Group H</span>, None, <span class=\"mw-headline\" id=\"Round_of_16\">Round of 16</span>, <span class=\"mw-headline\" id=\"Quarter-finals\">Quarter-finals</span>, <span class=\"mw-headline\" id=\"Semi-finals\">Semi-finals</span>, <span class=\"mw-headline\" id=\"Third_place_play-off\">Third place play-off</span>, <span class=\"mw-headline\" id=\"Final\">Final</span>, <span class=\"mw-headline\" id=\"Group_A\">Group A</span>, <span class=\"mw-headline\" id=\"Group_B\">Group B</span>, <span class=\"mw-headline\" id=\"Group_C\">Group C</span>, <span class=\"mw-headline\" id=\"Group_D\">Group D</span>, <span class=\"mw-headline\" id=\"Group_E\">Group E</span>, <span class=\"mw-headline\" id=\"Group_F\">Group F</span>, <span class=\"mw-headline\" id=\"Group_G\">Group G</span>, <span class=\"mw-headline\" id=\"Group_H\">Group H</span>, None, <span class=\"mw-headline\" id=\"Round_of_16\">Round of 16</span>, <span class=\"mw-headline\" id=\"Quarter-finals\">Quarter-finals</span>, <span class=\"mw-headline\" id=\"Semi-finals\">Semi-finals</span>, <span class=\"mw-headline\" id=\"Third_place_play-off\">Third place play-off</span>, <span class=\"mw-headline\" id=\"Final\">Final</span>, <span class=\"mw-headline\" id=\"Group_A\">Group A</span>, <span class=\"mw-headline\" id=\"Group_B\">Group B</span>, <span class=\"mw-headline\" id=\"Group_C\">Group C</span>, <span class=\"mw-headline\" id=\"Group_D\">Group D</span>, <span class=\"mw-headline\" id=\"Group_E\">Group E</span>, <span class=\"mw-headline\" id=\"Group_F\">Group F</span>, <span class=\"mw-headline\" id=\"Group_G\">Group G</span>, <span class=\"mw-headline\" id=\"Group_H\">Group H</span>, None, <span class=\"mw-headline\" id=\"Round_of_16\">Round of 16</span>, <span class=\"mw-headline\" id=\"Quarter-finals\">Quarter-finals</span>, <span class=\"mw-headline\" id=\"Semi-finals\">Semi-finals</span>, <span class=\"mw-headline\" id=\"Third_place_play-off\">Third place play-off</span>, <span class=\"mw-headline\" id=\"Final\">Final</span>, <span class=\"mw-headline\" id=\"Group_A\">Group A</span>, <span class=\"mw-headline\" id=\"Group_B\">Group B</span>, <span class=\"mw-headline\" id=\"Group_C\">Group C</span>, <span class=\"mw-headline\" id=\"Group_D\">Group D</span>, <span class=\"mw-headline\" id=\"Group_E\">Group E</span>, <span class=\"mw-headline\" id=\"Group_F\">Group F</span>, <span class=\"mw-headline\" id=\"Group_G\">Group G</span>, <span class=\"mw-headline\" id=\"Group_H\">Group H</span>, None, <span class=\"mw-headline\" id=\"Round_of_16\">Round of 16</span>, <span class=\"mw-headline\" id=\"Quarter-finals\">Quarter-finals</span>, <span class=\"mw-headline\" id=\"Semi-finals\">Semi-finals</span>, <span class=\"mw-headline\" id=\"Third_place_play-off\">Third place play-off</span>, <span class=\"mw-headline\" id=\"Final\">Final</span>, <span class=\"mw-headline\" id=\"Group_A\">Group A</span>, <span class=\"mw-headline\" id=\"Group_B\">Group B</span>, <span class=\"mw-headline\" id=\"Group_C\">Group C</span>, <span class=\"mw-headline\" id=\"Group_D\">Group D</span>, <span class=\"mw-headline\" id=\"Group_E\">Group E</span>, <span class=\"mw-headline\" id=\"Group_F\">Group F</span>, <span class=\"mw-headline\" id=\"Group_G\">Group G</span>, <span class=\"mw-headline\" id=\"Group_H\">Group H</span>, None, <span class=\"mw-headline\" id=\"Round_of_16\">Round of 16</span>, <span class=\"mw-headline\" id=\"Quarter-finals\">Quarter-finals</span>, <span class=\"mw-headline\" id=\"Semi-finals\">Semi-finals</span>, <span class=\"mw-headline\" id=\"Third_place_play-off\">Third place play-off</span>, <span class=\"mw-headline\" id=\"Final\">Final</span>, <span class=\"mw-headline\" id=\"Group_A\">Group A</span>, <span class=\"mw-headline\" id=\"Group_B\">Group B</span>, <span class=\"mw-headline\" id=\"Group_C\">Group C</span>, <span class=\"mw-headline\" id=\"Group_D\">Group D</span>, <span class=\"mw-headline\" id=\"Group_E\">Group E</span>, <span class=\"mw-headline\" id=\"Group_F\">Group F</span>, <span class=\"mw-headline\" id=\"Group_G\">Group G</span>, <span class=\"mw-headline\" id=\"Group_H\">Group H</span>, None, <span class=\"mw-headline\" id=\"Round_of_16\">Round of 16</span>, <span class=\"mw-headline\" id=\"Quarter-finals\">Quarter-finals</span>, <span class=\"mw-headline\" id=\"Semi-finals\">Semi-finals</span>, <span class=\"mw-headline\" id=\"Third_place_play-off\">Third place play-off</span>, <span class=\"mw-headline\" id=\"Final\">Final</span>, <span class=\"mw-headline\" id=\"Group_A\">Group A</span>, <span class=\"mw-headline\" id=\"Group_B\">Group B</span>, <span class=\"mw-headline\" id=\"Group_C\">Group C</span>, <span class=\"mw-headline\" id=\"Group_D\">Group D</span>, <span class=\"mw-headline\" id=\"Group_E\">Group E</span>, <span class=\"mw-headline\" id=\"Group_F\">Group F</span>, <span class=\"mw-headline\" id=\"Group_G\">Group G</span>, <span class=\"mw-headline\" id=\"Group_H\">Group H</span>, None, <span class=\"mw-headline\" id=\"Round_of_16\">Round of 16</span>, <span class=\"mw-headline\" id=\"Quarter-finals\">Quarter-finals</span>, <span class=\"mw-headline\" id=\"Semi-finals\">Semi-finals</span>, <span class=\"mw-headline\" id=\"Third_place_play-off\">Third place play-off</span>, <span class=\"mw-headline\" id=\"Final\">Final</span>, <span class=\"mw-headline\" id=\"Group_A\">Group A</span>, <span class=\"mw-headline\" id=\"Group_B\">Group B</span>, <span class=\"mw-headline\" id=\"Group_C\">Group C</span>, <span class=\"mw-headline\" id=\"Group_D\">Group D</span>, <span class=\"mw-headline\" id=\"Group_E\">Group E</span>, <span class=\"mw-headline\" id=\"Group_F\">Group F</span>, <span class=\"mw-headline\" id=\"Group_G\">Group G</span>, <span class=\"mw-headline\" id=\"Group_H\">Group H</span>, None, <span class=\"mw-headline\" id=\"Round_of_16\">Round of 16</span>, <span class=\"mw-headline\" id=\"Quarter-finals\">Quarter-finals</span>, <span class=\"mw-headline\" id=\"Semi-finals\">Semi-finals</span>, <span class=\"mw-headline\" id=\"Third_place_play-off\">Third place play-off</span>, <span class=\"mw-headline\" id=\"Final\">Final</span>, <span class=\"mw-headline\" id=\"Group_A\">Group A</span>, <span class=\"mw-headline\" id=\"Group_B\">Group B</span>, <span class=\"mw-headline\" id=\"Group_C\">Group C</span>, <span class=\"mw-headline\" id=\"Group_D\">Group D</span>, <span class=\"mw-headline\" id=\"Group_E\">Group E</span>, <span class=\"mw-headline\" id=\"Group_F\">Group F</span>, <span class=\"mw-headline\" id=\"Group_G\">Group G</span>, <span class=\"mw-headline\" id=\"Group_H\">Group H</span>, None, <span class=\"mw-headline\" id=\"Round_of_16\">Round of 16</span>, <span class=\"mw-headline\" id=\"Quarter-finals\">Quarter-finals</span>, <span class=\"mw-headline\" id=\"Semi-finals\">Semi-finals</span>, <span class=\"mw-headline\" id=\"Third_place_play-off\">Third place play-off</span>, <span class=\"mw-headline\" id=\"Final\">Final</span>, <span class=\"mw-headline\" id=\"Group_A\">Group A</span>, <span class=\"mw-headline\" id=\"Group_B\">Group B</span>, <span class=\"mw-headline\" id=\"Group_C\">Group C</span>, <span class=\"mw-headline\" id=\"Group_D\">Group D</span>, <span class=\"mw-headline\" id=\"Group_E\">Group E</span>, <span class=\"mw-headline\" id=\"Group_F\">Group F</span>, <span class=\"mw-headline\" id=\"Group_G\">Group G</span>, <span class=\"mw-headline\" id=\"Group_H\">Group H</span>, None, <span class=\"mw-headline\" id=\"Round_of_16\">Round of 16</span>, <span class=\"mw-headline\" id=\"Quarter-finals\">Quarter-finals</span>, <span class=\"mw-headline\" id=\"Semi-finals\">Semi-finals</span>, <span class=\"mw-headline\" id=\"Third_place_play-off\">Third place play-off</span>, <span class=\"mw-headline\" id=\"Final\">Final</span>, <span class=\"mw-headline\" id=\"Group_A\">Group A</span>, <span class=\"mw-headline\" id=\"Group_B\">Group B</span>, <span class=\"mw-headline\" id=\"Group_C\">Group C</span>, <span class=\"mw-headline\" id=\"Group_D\">Group D</span>, <span class=\"mw-headline\" id=\"Group_E\">Group E</span>, <span class=\"mw-headline\" id=\"Group_F\">Group F</span>, <span class=\"mw-headline\" id=\"Group_G\">Group G</span>, <span class=\"mw-headline\" id=\"Group_H\">Group H</span>, None, <span class=\"mw-headline\" id=\"Round_of_16\">Round of 16</span>, <span class=\"mw-headline\" id=\"Quarter-finals\">Quarter-finals</span>, <span class=\"mw-headline\" id=\"Semi-finals\">Semi-finals</span>, <span class=\"mw-headline\" id=\"Third_place_play-off\">Third place play-off</span>, <span class=\"mw-headline\" id=\"Final\">Final</span>, <span class=\"mw-headline\" id=\"Group_A\">Group A</span>, <span class=\"mw-headline\" id=\"Group_B\">Group B</span>, <span class=\"mw-headline\" id=\"Group_C\">Group C</span>, <span class=\"mw-headline\" id=\"Group_D\">Group D</span>, <span class=\"mw-headline\" id=\"Group_E\">Group E</span>, <span class=\"mw-headline\" id=\"Group_F\">Group F</span>, <span class=\"mw-headline\" id=\"Group_G\">Group G</span>, <span class=\"mw-headline\" id=\"Group_H\">Group H</span>, None, <span class=\"mw-headline\" id=\"Round_of_16\">Round of 16</span>, <span class=\"mw-headline\" id=\"Quarter-finals\">Quarter-finals</span>, <span class=\"mw-headline\" id=\"Semi-finals\">Semi-finals</span>, <span class=\"mw-headline\" id=\"Third_place_play-off\">Third place play-off</span>, <span class=\"mw-headline\" id=\"Final\">Final</span>, <span class=\"mw-headline\" id=\"Group_A\">Group A</span>, <span class=\"mw-headline\" id=\"Group_B\">Group B</span>, <span class=\"mw-headline\" id=\"Group_C\">Group C</span>, <span class=\"mw-headline\" id=\"Group_D\">Group D</span>, <span class=\"mw-headline\" id=\"Group_E\">Group E</span>, <span class=\"mw-headline\" id=\"Group_F\">Group F</span>, <span class=\"mw-headline\" id=\"Group_G\">Group G</span>, <span class=\"mw-headline\" id=\"Group_H\">Group H</span>, None, <span class=\"mw-headline\" id=\"Round_of_16\">Round of 16</span>, <span class=\"mw-headline\" id=\"Quarter-finals\">Quarter-finals</span>, <span class=\"mw-headline\" id=\"Semi-finals\">Semi-finals</span>, <span class=\"mw-headline\" id=\"Third_place_play-off\">Third place play-off</span>, <span class=\"mw-headline\" id=\"Final\">Final</span>, <span class=\"mw-headline\" id=\"Group_A\">Group A</span>, <span class=\"mw-headline\" id=\"Group_B\">Group B</span>, <span class=\"mw-headline\" id=\"Group_C\">Group C</span>, <span class=\"mw-headline\" id=\"Group_D\">Group D</span>, <span class=\"mw-headline\" id=\"Group_E\">Group E</span>, <span class=\"mw-headline\" id=\"Group_F\">Group F</span>, <span class=\"mw-headline\" id=\"Group_G\">Group G</span>, <span class=\"mw-headline\" id=\"Group_H\">Group H</span>, None, <span class=\"mw-headline\" id=\"Round_of_16\">Round of 16</span>, <span class=\"mw-headline\" id=\"Quarter-finals\">Quarter-finals</span>, <span class=\"mw-headline\" id=\"Semi-finals\">Semi-finals</span>, <span class=\"mw-headline\" id=\"Third_place_play-off\">Third place play-off</span>, <span class=\"mw-headline\" id=\"Final\">Final</span>, <span class=\"mw-headline\" id=\"Group_A\">Group A</span>, <span class=\"mw-headline\" id=\"Group_B\">Group B</span>, <span class=\"mw-headline\" id=\"Group_C\">Group C</span>, <span class=\"mw-headline\" id=\"Group_D\">Group D</span>, <span class=\"mw-headline\" id=\"Group_E\">Group E</span>, <span class=\"mw-headline\" id=\"Group_F\">Group F</span>, <span class=\"mw-headline\" id=\"Group_G\">Group G</span>, <span class=\"mw-headline\" id=\"Group_H\">Group H</span>, None, <span class=\"mw-headline\" id=\"Round_of_16\">Round of 16</span>, <span class=\"mw-headline\" id=\"Quarter-finals\">Quarter-finals</span>, <span class=\"mw-headline\" id=\"Semi-finals\">Semi-finals</span>, <span class=\"mw-headline\" id=\"Third_place_play-off\">Third place play-off</span>, <span class=\"mw-headline\" id=\"Final\">Final</span>, <span class=\"mw-headline\" id=\"Group_A\">Group A</span>, <span class=\"mw-headline\" id=\"Group_B\">Group B</span>, <span class=\"mw-headline\" id=\"Group_C\">Group C</span>, <span class=\"mw-headline\" id=\"Group_D\">Group D</span>, <span class=\"mw-headline\" id=\"Group_E\">Group E</span>, <span class=\"mw-headline\" id=\"Group_F\">Group F</span>, <span class=\"mw-headline\" id=\"Group_G\">Group G</span>, <span class=\"mw-headline\" id=\"Group_H\">Group H</span>, None, <span class=\"mw-headline\" id=\"Round_of_16\">Round of 16</span>, <span class=\"mw-headline\" id=\"Quarter-finals\">Quarter-finals</span>, <span class=\"mw-headline\" id=\"Semi-finals\">Semi-finals</span>, <span class=\"mw-headline\" id=\"Third_place_play-off\">Third place play-off</span>, <span class=\"mw-headline\" id=\"Final\">Final</span>, <span class=\"mw-headline\" id=\"Group_A\">Group A</span>, <span class=\"mw-headline\" id=\"Group_B\">Group B</span>, <span class=\"mw-headline\" id=\"Group_C\">Group C</span>, <span class=\"mw-headline\" id=\"Group_D\">Group D</span>, <span class=\"mw-headline\" id=\"Group_E\">Group E</span>, <span class=\"mw-headline\" id=\"Group_F\">Group F</span>, <span class=\"mw-headline\" id=\"Group_G\">Group G</span>, <span class=\"mw-headline\" id=\"Group_H\">Group H</span>, None, <span class=\"mw-headline\" id=\"Round_of_16\">Round of 16</span>, <span class=\"mw-headline\" id=\"Quarter-finals\">Quarter-finals</span>, <span class=\"mw-headline\" id=\"Semi-finals\">Semi-finals</span>, <span class=\"mw-headline\" id=\"Third_place_play-off\">Third place play-off</span>, <span class=\"mw-headline\" id=\"Final\">Final</span>, <span class=\"mw-headline\" id=\"Group_A\">Group A</span>, <span class=\"mw-headline\" id=\"Group_B\">Group B</span>, <span class=\"mw-headline\" id=\"Group_C\">Group C</span>, <span class=\"mw-headline\" id=\"Group_D\">Group D</span>, <span class=\"mw-headline\" id=\"Group_E\">Group E</span>, <span class=\"mw-headline\" id=\"Group_F\">Group F</span>, <span class=\"mw-headline\" id=\"Group_G\">Group G</span>, <span class=\"mw-headline\" id=\"Group_H\">Group H</span>, None, <span class=\"mw-headline\" id=\"Round_of_16\">Round of 16</span>, <span class=\"mw-headline\" id=\"Quarter-finals\">Quarter-finals</span>, <span class=\"mw-headline\" id=\"Semi-finals\">Semi-finals</span>, <span class=\"mw-headline\" id=\"Third_place_play-off\">Third place play-off</span>, <span class=\"mw-headline\" id=\"Final\">Final</span>, <span class=\"mw-headline\" id=\"Group_A\">Group A</span>, <span class=\"mw-headline\" id=\"Group_B\">Group B</span>, <span class=\"mw-headline\" id=\"Group_C\">Group C</span>, <span class=\"mw-headline\" id=\"Group_D\">Group D</span>, <span class=\"mw-headline\" id=\"Group_E\">Group E</span>, <span class=\"mw-headline\" id=\"Group_F\">Group F</span>, <span class=\"mw-headline\" id=\"Group_G\">Group G</span>, <span class=\"mw-headline\" id=\"Group_H\">Group H</span>, None, <span class=\"mw-headline\" id=\"Round_of_16\">Round of 16</span>, <span class=\"mw-headline\" id=\"Quarter-finals\">Quarter-finals</span>, <span class=\"mw-headline\" id=\"Semi-finals\">Semi-finals</span>, <span class=\"mw-headline\" id=\"Third_place_play-off\">Third place play-off</span>, <span class=\"mw-headline\" id=\"Final\">Final</span>, <span class=\"mw-headline\" id=\"Group_A\">Group A</span>, <span class=\"mw-headline\" id=\"Group_B\">Group B</span>, <span class=\"mw-headline\" id=\"Group_C\">Group C</span>, <span class=\"mw-headline\" id=\"Group_D\">Group D</span>, <span class=\"mw-headline\" id=\"Group_E\">Group E</span>, <span class=\"mw-headline\" id=\"Group_F\">Group F</span>, <span class=\"mw-headline\" id=\"Group_G\">Group G</span>, <span class=\"mw-headline\" id=\"Group_H\">Group H</span>, None, <span class=\"mw-headline\" id=\"Round_of_16\">Round of 16</span>, <span class=\"mw-headline\" id=\"Quarter-finals\">Quarter-finals</span>, <span class=\"mw-headline\" id=\"Semi-finals\">Semi-finals</span>, <span class=\"mw-headline\" id=\"Third_place_play-off\">Third place play-off</span>, <span class=\"mw-headline\" id=\"Final\">Final</span>, <span class=\"mw-headline\" id=\"Group_A\">Group A</span>, <span class=\"mw-headline\" id=\"Group_B\">Group B</span>, <span class=\"mw-headline\" id=\"Group_C\">Group C</span>, <span class=\"mw-headline\" id=\"Group_D\">Group D</span>, <span class=\"mw-headline\" id=\"Group_E\">Group E</span>, <span class=\"mw-headline\" id=\"Group_F\">Group F</span>, <span class=\"mw-headline\" id=\"Group_G\">Group G</span>, <span class=\"mw-headline\" id=\"Group_H\">Group H</span>, None, <span class=\"mw-headline\" id=\"Round_of_16\">Round of 16</span>, <span class=\"mw-headline\" id=\"Quarter-finals\">Quarter-finals</span>, <span class=\"mw-headline\" id=\"Semi-finals\">Semi-finals</span>, <span class=\"mw-headline\" id=\"Third_place_play-off\">Third place play-off</span>, <span class=\"mw-headline\" id=\"Final\">Final</span>, <span class=\"mw-headline\" id=\"Group_A\">Group A</span>, <span class=\"mw-headline\" id=\"Group_B\">Group B</span>, <span class=\"mw-headline\" id=\"Group_C\">Group C</span>, <span class=\"mw-headline\" id=\"Group_D\">Group D</span>, <span class=\"mw-headline\" id=\"Group_E\">Group E</span>, <span class=\"mw-headline\" id=\"Group_F\">Group F</span>, <span class=\"mw-headline\" id=\"Group_G\">Group G</span>, <span class=\"mw-headline\" id=\"Group_H\">Group H</span>, None, <span class=\"mw-headline\" id=\"Round_of_16\">Round of 16</span>, <span class=\"mw-headline\" id=\"Quarter-finals\">Quarter-finals</span>, <span class=\"mw-headline\" id=\"Semi-finals\">Semi-finals</span>, <span class=\"mw-headline\" id=\"Third_place_play-off\">Third place play-off</span>, <span class=\"mw-headline\" id=\"Final\">Final</span>, <span class=\"mw-headline\" id=\"Group_A\">Group A</span>, <span class=\"mw-headline\" id=\"Group_B\">Group B</span>, <span class=\"mw-headline\" id=\"Group_C\">Group C</span>, <span class=\"mw-headline\" id=\"Group_D\">Group D</span>, <span class=\"mw-headline\" id=\"Group_E\">Group E</span>, <span class=\"mw-headline\" id=\"Group_F\">Group F</span>, <span class=\"mw-headline\" id=\"Group_G\">Group G</span>, <span class=\"mw-headline\" id=\"Group_H\">Group H</span>, None, <span class=\"mw-headline\" id=\"Round_of_16\">Round of 16</span>, <span class=\"mw-headline\" id=\"Quarter-finals\">Quarter-finals</span>, <span class=\"mw-headline\" id=\"Semi-finals\">Semi-finals</span>, <span class=\"mw-headline\" id=\"Third_place_play-off\">Third place play-off</span>, <span class=\"mw-headline\" id=\"Final\">Final</span>, <span class=\"mw-headline\" id=\"Group_A\">Group A</span>, <span class=\"mw-headline\" id=\"Group_B\">Group B</span>, <span class=\"mw-headline\" id=\"Group_C\">Group C</span>, <span class=\"mw-headline\" id=\"Group_D\">Group D</span>, <span class=\"mw-headline\" id=\"Group_E\">Group E</span>, <span class=\"mw-headline\" id=\"Group_F\">Group F</span>, <span class=\"mw-headline\" id=\"Group_G\">Group G</span>, <span class=\"mw-headline\" id=\"Group_H\">Group H</span>, None, <span class=\"mw-headline\" id=\"Round_of_16\">Round of 16</span>, <span class=\"mw-headline\" id=\"Quarter-finals\">Quarter-finals</span>, <span class=\"mw-headline\" id=\"Semi-finals\">Semi-finals</span>, <span class=\"mw-headline\" id=\"Third_place_play-off\">Third place play-off</span>, <span class=\"mw-headline\" id=\"Final\">Final</span>, <span class=\"mw-headline\" id=\"Group_A\">Group A</span>, <span class=\"mw-headline\" id=\"Group_B\">Group B</span>, <span class=\"mw-headline\" id=\"Group_C\">Group C</span>, <span class=\"mw-headline\" id=\"Group_D\">Group D</span>, <span class=\"mw-headline\" id=\"Group_E\">Group E</span>, <span class=\"mw-headline\" id=\"Group_F\">Group F</span>, <span class=\"mw-headline\" id=\"Group_G\">Group G</span>, <span class=\"mw-headline\" id=\"Group_H\">Group H</span>, None, <span class=\"mw-headline\" id=\"Round_of_16\">Round of 16</span>, <span class=\"mw-headline\" id=\"Quarter-finals\">Quarter-finals</span>, <span class=\"mw-headline\" id=\"Semi-finals\">Semi-finals</span>, <span class=\"mw-headline\" id=\"Third_place_play-off\">Third place play-off</span>, <span class=\"mw-headline\" id=\"Final\">Final</span>, <span class=\"mw-headline\" id=\"Group_A\">Group A</span>, <span class=\"mw-headline\" id=\"Group_B\">Group B</span>, <span class=\"mw-headline\" id=\"Group_C\">Group C</span>, <span class=\"mw-headline\" id=\"Group_D\">Group D</span>, <span class=\"mw-headline\" id=\"Group_E\">Group E</span>, <span class=\"mw-headline\" id=\"Group_F\">Group F</span>, <span class=\"mw-headline\" id=\"Group_G\">Group G</span>, <span class=\"mw-headline\" id=\"Group_H\">Group H</span>, None, <span class=\"mw-headline\" id=\"Round_of_16\">Round of 16</span>, <span class=\"mw-headline\" id=\"Quarter-finals\">Quarter-finals</span>, <span class=\"mw-headline\" id=\"Semi-finals\">Semi-finals</span>, <span class=\"mw-headline\" id=\"Third_place_play-off\">Third place play-off</span>, <span class=\"mw-headline\" id=\"Final\">Final</span>]\n"
          ]
        }
      ]
    },
    {
      "cell_type": "code",
      "source": [
        "turns_3 = []\n",
        "\n",
        "for tt in range(0,len(turns_2)):\n",
        "  try:\n",
        "    a = turns_2[tt].get_text()\n",
        "  except:\n",
        "    print(\"no text found\")\n",
        "  turns_3.append(a)\n",
        "turns_3 = np.unique(turns_3)\n",
        "print(turns_3)"
      ],
      "metadata": {
        "id": "KU_XRk3rICdq"
      },
      "execution_count": null,
      "outputs": []
    },
    {
      "cell_type": "code",
      "source": [
        "matches = []\n",
        "for tag in tags:\n",
        "    match_dictionary = {}\n",
        "    date = tag.find(\"span\", {\"class\": \"bday dtstart published updated\"})\n",
        "    match_dictionary[\"Date\"] = date.get_text()\n",
        "    time = tag.find(\"div\", {\"class\": \"ftime\"})\n",
        "    match_dictionary[\"Time\"] = time.get_text()\n",
        "    turn = tag.find(\"div\", {\"id\": \"mw-headline\"})\n",
        "    #print(tag, turn)\n",
        "    match_dictionary[\"Group\"] = turn.get_text()\n",
        "    home_team = tag.find(\"th\", {\"itemprop\": \"homeTeam\"})\n",
        "    away_team = tag.find(\"th\", {\"itemprop\": \"awayTeam\"})\n",
        "    match_dictionary[\"Match\"] = home_team.get_text(strip=True) + \" vs \" + away_team.get_text(strip=True)\n",
        "    matches.append(match_dictionary)"
      ],
      "metadata": {
        "colab": {
          "base_uri": "https://localhost:8080/",
          "height": 241
        },
        "id": "5RHXwSRapVwv",
        "outputId": "bb7242f1-07d6-4432-a077-77310ced56b7"
      },
      "execution_count": null,
      "outputs": [
        {
          "output_type": "error",
          "ename": "AttributeError",
          "evalue": "ignored",
          "traceback": [
            "\u001b[0;31m---------------------------------------------------------------------------\u001b[0m",
            "\u001b[0;31mAttributeError\u001b[0m                            Traceback (most recent call last)",
            "\u001b[0;32m<ipython-input-52-e9bcadf1c1b1>\u001b[0m in \u001b[0;36m<module>\u001b[0;34m()\u001b[0m\n\u001b[1;32m      8\u001b[0m     \u001b[0mturn\u001b[0m \u001b[0;34m=\u001b[0m \u001b[0mtag\u001b[0m\u001b[0;34m.\u001b[0m\u001b[0mfind\u001b[0m\u001b[0;34m(\u001b[0m\u001b[0;34m\"div\"\u001b[0m\u001b[0;34m,\u001b[0m \u001b[0;34m{\u001b[0m\u001b[0;34m\"id\"\u001b[0m\u001b[0;34m:\u001b[0m \u001b[0;34m\"mw-headline\"\u001b[0m\u001b[0;34m}\u001b[0m\u001b[0;34m)\u001b[0m\u001b[0;34m\u001b[0m\u001b[0;34m\u001b[0m\u001b[0m\n\u001b[1;32m      9\u001b[0m     \u001b[0;31m#print(tag, turn)\u001b[0m\u001b[0;34m\u001b[0m\u001b[0;34m\u001b[0m\u001b[0;34m\u001b[0m\u001b[0m\n\u001b[0;32m---> 10\u001b[0;31m     \u001b[0mmatch_dictionary\u001b[0m\u001b[0;34m[\u001b[0m\u001b[0;34m\"Group\"\u001b[0m\u001b[0;34m]\u001b[0m \u001b[0;34m=\u001b[0m \u001b[0mturn\u001b[0m\u001b[0;34m.\u001b[0m\u001b[0mget_text\u001b[0m\u001b[0;34m(\u001b[0m\u001b[0;34m)\u001b[0m\u001b[0;34m\u001b[0m\u001b[0;34m\u001b[0m\u001b[0m\n\u001b[0m\u001b[1;32m     11\u001b[0m     \u001b[0mhome_team\u001b[0m \u001b[0;34m=\u001b[0m \u001b[0mtag\u001b[0m\u001b[0;34m.\u001b[0m\u001b[0mfind\u001b[0m\u001b[0;34m(\u001b[0m\u001b[0;34m\"th\"\u001b[0m\u001b[0;34m,\u001b[0m \u001b[0;34m{\u001b[0m\u001b[0;34m\"itemprop\"\u001b[0m\u001b[0;34m:\u001b[0m \u001b[0;34m\"homeTeam\"\u001b[0m\u001b[0;34m}\u001b[0m\u001b[0;34m)\u001b[0m\u001b[0;34m\u001b[0m\u001b[0;34m\u001b[0m\u001b[0m\n\u001b[1;32m     12\u001b[0m     \u001b[0maway_team\u001b[0m \u001b[0;34m=\u001b[0m \u001b[0mtag\u001b[0m\u001b[0;34m.\u001b[0m\u001b[0mfind\u001b[0m\u001b[0;34m(\u001b[0m\u001b[0;34m\"th\"\u001b[0m\u001b[0;34m,\u001b[0m \u001b[0;34m{\u001b[0m\u001b[0;34m\"itemprop\"\u001b[0m\u001b[0;34m:\u001b[0m \u001b[0;34m\"awayTeam\"\u001b[0m\u001b[0;34m}\u001b[0m\u001b[0;34m)\u001b[0m\u001b[0;34m\u001b[0m\u001b[0;34m\u001b[0m\u001b[0m\n",
            "\u001b[0;31mAttributeError\u001b[0m: 'NoneType' object has no attribute 'get_text'"
          ]
        }
      ]
    },
    {
      "cell_type": "code",
      "source": [
        "turn = tags[23].find(\"span\", {\"class\": \"mw-headline\"})\n",
        "print(turn)\n",
        "#match_dictionary[\"Group\"] = turn.get_text()\n",
        "for tag in range(0,len(tags)):\n",
        "  turn = tags[tag].find(\"div\", {\"id\": \"mw-headline\"})\n",
        "  print(tag, turn)"
      ],
      "metadata": {
        "id": "Z5Uu6eAZneAc"
      },
      "execution_count": null,
      "outputs": []
    },
    {
      "cell_type": "code",
      "source": [
        ""
      ],
      "metadata": {
        "id": "_lKnwHHs7JRf"
      },
      "execution_count": null,
      "outputs": []
    }
  ]
}